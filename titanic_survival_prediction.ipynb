{
 "cells": [
  {
   "cell_type": "code",
   "execution_count": 17,
   "id": "81973824",
   "metadata": {},
   "outputs": [
    {
     "data": {
      "text/html": [
       "<div>\n",
       "<style scoped>\n",
       "    .dataframe tbody tr th:only-of-type {\n",
       "        vertical-align: middle;\n",
       "    }\n",
       "\n",
       "    .dataframe tbody tr th {\n",
       "        vertical-align: top;\n",
       "    }\n",
       "\n",
       "    .dataframe thead th {\n",
       "        text-align: right;\n",
       "    }\n",
       "</style>\n",
       "<table border=\"1\" class=\"dataframe\">\n",
       "  <thead>\n",
       "    <tr style=\"text-align: right;\">\n",
       "      <th></th>\n",
       "      <th>PassengerId</th>\n",
       "      <th>Survived</th>\n",
       "      <th>Pclass</th>\n",
       "      <th>Name</th>\n",
       "      <th>Sex</th>\n",
       "      <th>Age</th>\n",
       "      <th>SibSp</th>\n",
       "      <th>Parch</th>\n",
       "      <th>Ticket</th>\n",
       "      <th>Fare</th>\n",
       "      <th>Cabin</th>\n",
       "      <th>Embarked</th>\n",
       "    </tr>\n",
       "  </thead>\n",
       "  <tbody>\n",
       "    <tr>\n",
       "      <th>0</th>\n",
       "      <td>1</td>\n",
       "      <td>0</td>\n",
       "      <td>3</td>\n",
       "      <td>Braund, Mr. Owen Harris</td>\n",
       "      <td>male</td>\n",
       "      <td>22.0</td>\n",
       "      <td>1</td>\n",
       "      <td>0</td>\n",
       "      <td>A/5 21171</td>\n",
       "      <td>7.2500</td>\n",
       "      <td>NaN</td>\n",
       "      <td>S</td>\n",
       "    </tr>\n",
       "    <tr>\n",
       "      <th>1</th>\n",
       "      <td>2</td>\n",
       "      <td>1</td>\n",
       "      <td>1</td>\n",
       "      <td>Cumings, Mrs. John Bradley (Florence Briggs Th...</td>\n",
       "      <td>female</td>\n",
       "      <td>38.0</td>\n",
       "      <td>1</td>\n",
       "      <td>0</td>\n",
       "      <td>PC 17599</td>\n",
       "      <td>71.2833</td>\n",
       "      <td>C85</td>\n",
       "      <td>C</td>\n",
       "    </tr>\n",
       "    <tr>\n",
       "      <th>2</th>\n",
       "      <td>3</td>\n",
       "      <td>1</td>\n",
       "      <td>3</td>\n",
       "      <td>Heikkinen, Miss. Laina</td>\n",
       "      <td>female</td>\n",
       "      <td>26.0</td>\n",
       "      <td>0</td>\n",
       "      <td>0</td>\n",
       "      <td>STON/O2. 3101282</td>\n",
       "      <td>7.9250</td>\n",
       "      <td>NaN</td>\n",
       "      <td>S</td>\n",
       "    </tr>\n",
       "    <tr>\n",
       "      <th>3</th>\n",
       "      <td>4</td>\n",
       "      <td>1</td>\n",
       "      <td>1</td>\n",
       "      <td>Futrelle, Mrs. Jacques Heath (Lily May Peel)</td>\n",
       "      <td>female</td>\n",
       "      <td>35.0</td>\n",
       "      <td>1</td>\n",
       "      <td>0</td>\n",
       "      <td>113803</td>\n",
       "      <td>53.1000</td>\n",
       "      <td>C123</td>\n",
       "      <td>S</td>\n",
       "    </tr>\n",
       "    <tr>\n",
       "      <th>4</th>\n",
       "      <td>5</td>\n",
       "      <td>0</td>\n",
       "      <td>3</td>\n",
       "      <td>Allen, Mr. William Henry</td>\n",
       "      <td>male</td>\n",
       "      <td>35.0</td>\n",
       "      <td>0</td>\n",
       "      <td>0</td>\n",
       "      <td>373450</td>\n",
       "      <td>8.0500</td>\n",
       "      <td>NaN</td>\n",
       "      <td>S</td>\n",
       "    </tr>\n",
       "  </tbody>\n",
       "</table>\n",
       "</div>"
      ],
      "text/plain": [
       "   PassengerId  Survived  Pclass  \\\n",
       "0            1         0       3   \n",
       "1            2         1       1   \n",
       "2            3         1       3   \n",
       "3            4         1       1   \n",
       "4            5         0       3   \n",
       "\n",
       "                                                Name     Sex   Age  SibSp  \\\n",
       "0                            Braund, Mr. Owen Harris    male  22.0      1   \n",
       "1  Cumings, Mrs. John Bradley (Florence Briggs Th...  female  38.0      1   \n",
       "2                             Heikkinen, Miss. Laina  female  26.0      0   \n",
       "3       Futrelle, Mrs. Jacques Heath (Lily May Peel)  female  35.0      1   \n",
       "4                           Allen, Mr. William Henry    male  35.0      0   \n",
       "\n",
       "   Parch            Ticket     Fare Cabin Embarked  \n",
       "0      0         A/5 21171   7.2500   NaN        S  \n",
       "1      0          PC 17599  71.2833   C85        C  \n",
       "2      0  STON/O2. 3101282   7.9250   NaN        S  \n",
       "3      0            113803  53.1000  C123        S  \n",
       "4      0            373450   8.0500   NaN        S  "
      ]
     },
     "execution_count": 17,
     "metadata": {},
     "output_type": "execute_result"
    }
   ],
   "source": [
    "#Load the Data\n",
    "import pandas as pd   # Import pandas to handle data as DataFrames and read csv files\n",
    "import numpy as np # Import numpy for numerical operations like mean and median\n",
    "train = pd.read_csv(\"train.csv\") # Load training data (includes Survived column for model training)\n",
    "\n",
    "test = pd.read_csv(\"test.csv\") # Load testing data (no Survived column, used for final predictions)\n",
    "\n",
    "\n",
    "train.head() # Show the first 5 rows of the training dataset\n",
    "\n",
    "\n"
   ]
  },
  {
   "cell_type": "code",
   "execution_count": 18,
   "id": "7ed5bc6a",
   "metadata": {},
   "outputs": [
    {
     "name": "stdout",
     "output_type": "stream",
     "text": [
      "Train shape: (891, 12)\n",
      "Test shape: (418, 11)\n",
      "<class 'pandas.core.frame.DataFrame'>\n",
      "RangeIndex: 891 entries, 0 to 890\n",
      "Data columns (total 12 columns):\n",
      " #   Column       Non-Null Count  Dtype  \n",
      "---  ------       --------------  -----  \n",
      " 0   PassengerId  891 non-null    int64  \n",
      " 1   Survived     891 non-null    int64  \n",
      " 2   Pclass       891 non-null    int64  \n",
      " 3   Name         891 non-null    object \n",
      " 4   Sex          891 non-null    object \n",
      " 5   Age          714 non-null    float64\n",
      " 6   SibSp        891 non-null    int64  \n",
      " 7   Parch        891 non-null    int64  \n",
      " 8   Ticket       891 non-null    object \n",
      " 9   Fare         891 non-null    float64\n",
      " 10  Cabin        204 non-null    object \n",
      " 11  Embarked     889 non-null    object \n",
      "dtypes: float64(2), int64(5), object(5)\n",
      "memory usage: 83.7+ KB\n",
      "\n",
      " ---------------------------------------- \n",
      "\n",
      "       PassengerId    Survived      Pclass         Age       SibSp  \\\n",
      "count   891.000000  891.000000  891.000000  714.000000  891.000000   \n",
      "mean    446.000000    0.383838    2.308642   29.699118    0.523008   \n",
      "std     257.353842    0.486592    0.836071   14.526497    1.102743   \n",
      "min       1.000000    0.000000    1.000000    0.420000    0.000000   \n",
      "25%     223.500000    0.000000    2.000000   20.125000    0.000000   \n",
      "50%     446.000000    0.000000    3.000000   28.000000    0.000000   \n",
      "75%     668.500000    1.000000    3.000000   38.000000    1.000000   \n",
      "max     891.000000    1.000000    3.000000   80.000000    8.000000   \n",
      "\n",
      "            Parch        Fare  \n",
      "count  891.000000  891.000000  \n",
      "mean     0.381594   32.204208  \n",
      "std      0.806057   49.693429  \n",
      "min      0.000000    0.000000  \n",
      "25%      0.000000    7.910400  \n",
      "50%      0.000000   14.454200  \n",
      "75%      0.000000   31.000000  \n",
      "max      6.000000  512.329200  \n"
     ]
    }
   ],
   "source": [
    " #Exploratory Data Analysis\n",
    "print(\"Train shape:\", train.shape) # Print number of rows and columns in train and test datasets\n",
    "\n",
    "print(\"Test shape:\", test.shape)\n",
    "\n",
    "train.info() # Display column types and non-null counts in training data\n",
    "\n",
    "print(\"\\n\", \"-\"*40, \"\\n\")\n",
    "print(train.describe()) # Show basic statistics for numerical features in the training data\n"
   ]
  },
  {
   "cell_type": "code",
   "execution_count": 19,
   "id": "08110072",
   "metadata": {},
   "outputs": [
    {
     "name": "stdout",
     "output_type": "stream",
     "text": [
      "Null values (count):\n",
      " PassengerId      0\n",
      "Survived         0\n",
      "Pclass           0\n",
      "Name             0\n",
      "Sex              0\n",
      "Age            177\n",
      "SibSp            0\n",
      "Parch            0\n",
      "Ticket           0\n",
      "Fare             0\n",
      "Cabin          687\n",
      "Embarked         2\n",
      "dtype: int64\n",
      "\n",
      "Null values (%):\n",
      " PassengerId     0.00\n",
      "Survived        0.00\n",
      "Pclass          0.00\n",
      "Name            0.00\n",
      "Sex             0.00\n",
      "Age            19.87\n",
      "SibSp           0.00\n",
      "Parch           0.00\n",
      "Ticket          0.00\n",
      "Fare            0.00\n",
      "Cabin          77.10\n",
      "Embarked        0.22\n",
      "dtype: float64\n"
     ]
    }
   ],
   "source": [
    "# Show number and percentage of missing values in each column\n",
    "print(\"Null values (count):\\n\", train.isnull().sum())\n",
    "print(\"\\nNull values (%):\\n\", ((train.isnull().sum() / len(train)) * 100).round(2))\n"
   ]
  },
  {
   "cell_type": "code",
   "execution_count": 20,
   "id": "62f0e7e5",
   "metadata": {},
   "outputs": [
    {
     "data": {
      "image/png": "[encoded data removed]",
      "text/plain": [
       "<Figure size 640x480 with 1 Axes>"
      ]
     },
     "metadata": {},
     "output_type": "display_data"
    }
   ],
   "source": [
    "#Visualization (Survival by Gender)\n",
    "import seaborn as sns # Import seaborn for better visualizations\n",
    "import matplotlib.pyplot as plt # Import matplotlib for diagram\n",
    "sns.countplot(x=\"Survived\", hue=\"Sex\", data=train) # Draw a count plot of survived vs not survived, split by gender\n",
    "plt.title(\"Survival by Gender\") # Add title to the plot\n",
    "plt.show() # Show the plot\n",
    "\n"
   ]
  },
  {
   "cell_type": "code",
   "execution_count": 21,
   "id": "68c1c2b3",
   "metadata": {},
   "outputs": [
    {
     "data": {
      "text/plain": [
       "PassengerId      0\n",
       "Survived         0\n",
       "Pclass           0\n",
       "Name             0\n",
       "Sex              0\n",
       "Age            177\n",
       "SibSp            0\n",
       "Parch            0\n",
       "Ticket           0\n",
       "Fare             0\n",
       "Cabin          687\n",
       "Embarked         2\n",
       "dtype: int64"
      ]
     },
     "execution_count": 21,
     "metadata": {},
     "output_type": "execute_result"
    }
   ],
   "source": [
    "train.isnull().sum() # Count the number of missing (null) values in each column\n",
    "\n"
   ]
  },
  {
   "cell_type": "code",
   "execution_count": 22,
   "id": "f5efe581",
   "metadata": {},
   "outputs": [
    {
     "name": "stdout",
     "output_type": "stream",
     "text": [
      "Index(['PassengerId', 'Survived', 'Pclass', 'Name', 'Sex', 'Age', 'SibSp',\n",
      "       'Parch', 'Ticket', 'Fare', 'Cabin', 'Embarked'],\n",
      "      dtype='object')\n"
     ]
    }
   ],
   "source": [
    "print(train.columns) # Print all column names in the training dataset\n",
    "\n",
    "\n",
    "\n"
   ]
  },
  {
   "cell_type": "code",
   "execution_count": 23,
   "id": "404bf653",
   "metadata": {},
   "outputs": [],
   "source": [
    "\n",
    "#Preprocessing\n",
    "train[\"Age\"] = train[\"Age\"].fillna(train[\"Age\"].mean())# Fill missing Age values in training set with the mean age\n",
    "\n",
    "test[\"Age\"] = test[\"Age\"].fillna(test[\"Age\"].mean())# Fill missing Age values in test set with the mean age\n",
    "\n",
    "\n",
    "test[\"Fare\"] = test[\"Fare\"].fillna(test[\"Fare\"].median())# Fill missing Fare values in test set with the median fare\n",
    "\n",
    "\n",
    "train[\"Embarked\"] = train[\"Embarked\"].fillna(train[\"Embarked\"].mode()[0])# Fill missing Embarked values in training set with the most common port\n",
    "\n",
    "test[\"Embarked\"] = test[\"Embarked\"].fillna(test[\"Embarked\"].mode()[0])# Fill missing Embarked values in test set with the most common port\n",
    "\n"
   ]
  },
  {
   "cell_type": "code",
   "execution_count": 24,
   "id": "83f02932",
   "metadata": {},
   "outputs": [
    {
     "name": "stdout",
     "output_type": "stream",
     "text": [
      "Train nulls:\n",
      " PassengerId      0\n",
      "Survived         0\n",
      "Pclass           0\n",
      "Name             0\n",
      "Sex              0\n",
      "Age              0\n",
      "SibSp            0\n",
      "Parch            0\n",
      "Ticket           0\n",
      "Fare             0\n",
      "Cabin          687\n",
      "Embarked         0\n",
      "dtype: int64\n",
      "\n",
      "Test nulls:\n",
      " PassengerId      0\n",
      "Pclass           0\n",
      "Name             0\n",
      "Sex              0\n",
      "Age              0\n",
      "SibSp            0\n",
      "Parch            0\n",
      "Ticket           0\n",
      "Fare             0\n",
      "Cabin          327\n",
      "Embarked         0\n",
      "dtype: int64\n"
     ]
    }
   ],
   "source": [
    "print(\"Train nulls:\\n\", train.isnull().sum())\n",
    "print(\"\\nTest nulls:\\n\", test.isnull().sum())\n"
   ]
  },
  {
   "cell_type": "code",
   "execution_count": null,
   "id": "825ba1f0",
   "metadata": {},
   "outputs": [],
   "source": [
    "# Preprocessing\n",
    "train.drop(\"Cabin\", axis=1, inplace=True)# Drop the 'Cabin' column from train and test datasets (too many missing values)\n",
    "\n",
    "test.drop(\"Cabin\", axis=1, inplace=True)\n"
   ]
  },
  {
   "cell_type": "code",
   "execution_count": 26,
   "id": "310b6993",
   "metadata": {},
   "outputs": [
    {
     "name": "stdout",
     "output_type": "stream",
     "text": [
      "PassengerId    0\n",
      "Survived       0\n",
      "Pclass         0\n",
      "Name           0\n",
      "Sex            0\n",
      "Age            0\n",
      "SibSp          0\n",
      "Parch          0\n",
      "Ticket         0\n",
      "Fare           0\n",
      "Embarked       0\n",
      "dtype: int64\n",
      "PassengerId    0\n",
      "Pclass         0\n",
      "Name           0\n",
      "Sex            0\n",
      "Age            0\n",
      "SibSp          0\n",
      "Parch          0\n",
      "Ticket         0\n",
      "Fare           0\n",
      "Embarked       0\n",
      "dtype: int64\n"
     ]
    }
   ],
   "source": [
    "print(train.isnull().sum())\n",
    "print(test.isnull().sum())\n"
   ]
  },
  {
   "cell_type": "code",
   "execution_count": 27,
   "id": "82cc4fd0",
   "metadata": {},
   "outputs": [],
   "source": [
    "# Preprocessing\n",
    "test_passenger_ids = test[\"PassengerId\"] # Save PassengerId from test set to use in final submission\n",
    "\n",
    "train.drop([\"PassengerId\", \"Name\", \"Ticket\"], axis=1, inplace=True)# Drop irrelevant columns from training data: PassengerId, Name, Ticket\n",
    "\n",
    "test.drop([\"PassengerId\", \"Name\", \"Ticket\"], axis=1, inplace=True)# Drop the same columns from test set to match training data\n",
    "\n",
    "\n"
   ]
  },
  {
   "cell_type": "code",
   "execution_count": 28,
   "id": "657a6a9a",
   "metadata": {},
   "outputs": [],
   "source": [
    "# Preprocessing\n",
    "# One-Hot Encoding\n",
    "train = pd.get_dummies(train, columns=[\"Sex\", \"Embarked\"])# Convert categorical columns (Sex, Embarked) into numeric dummy variables in training set\n",
    "\n",
    "test = pd.get_dummies(test, columns=[\"Sex\", \"Embarked\"])# Apply the same encoding to test set to match training structure\n",
    "\n"
   ]
  },
  {
   "cell_type": "code",
   "execution_count": 29,
   "id": "88d495de",
   "metadata": {},
   "outputs": [],
   "source": [
    "# preprocessing\n",
    "X = train.drop(\"Survived\", axis=1)# Remove target column 'Survived' from training data to get features X\n",
    "\n",
    "test = test.reindex(columns=train.drop(\"Survived\", axis=1).columns, fill_value=0)\n",
    "# Match test columns to training features (excluding Survived), add missing columns with value 0\n"
   ]
  },
  {
   "cell_type": "code",
   "execution_count": null,
   "id": "46c47f4d",
   "metadata": {},
   "outputs": [],
   "source": [
    "from sklearn.model_selection import train_test_split # Import train_test_split to divide data into training and validation sets\n",
    "\n",
    "y = train[\"Survived\"] # Save target column 'Survived' as y\n",
    " #Modeling\n",
    "X_train, X_val, y_train, y_val = train_test_split(X, y, test_size=0.2, random_state=42) # Split data into 80% training and 20% validation sets\n",
    "\n"
   ]
  },
  {
   "cell_type": "code",
   "execution_count": null,
   "id": "2c3b312e",
   "metadata": {},
   "outputs": [
    {
     "name": "stdout",
     "output_type": "stream",
     "text": [
      "Logistic Regression Accuracy: 0.8100558659217877\n"
     ]
    }
   ],
   "source": [
    "#modeling\n",
    "from sklearn.linear_model import LogisticRegression\n",
    "from sklearn.metrics import accuracy_score # Import accuracy_score to evaluate model performance\n",
    "\n",
    "\n",
    "model = LogisticRegression(max_iter=1000)# Create Logistic Regression model instance\n",
    "\n",
    "model.fit(X_train, y_train)# Train model on training data\n",
    "\n",
    "\n",
    "y_pred = model.predict(X_val)# Predict outcomes on validation data\n",
    "\n",
    "print(\"Logistic Regression Accuracy:\", accuracy_score(y_val, y_pred))# Print the model accuracy on validation set\n",
    "\n"
   ]
  },
  {
   "cell_type": "code",
   "execution_count": null,
   "id": "d3432f95",
   "metadata": {},
   "outputs": [
    {
     "name": "stdout",
     "output_type": "stream",
     "text": [
      "Decision Tree Accuracy: 0.7821229050279329\n"
     ]
    }
   ],
   "source": [
    "#modeling\n",
    "from sklearn.tree import DecisionTreeClassifier\n",
    "\n",
    "tree_model = DecisionTreeClassifier()# Create instance of Decision Tree model with default settings\n",
    "\n",
    "tree_model.fit(X_train, y_train)# Train the Decision Tree model on training data\n",
    "\n",
    "\n",
    "tree_preds = tree_model.predict(X_val)# Predict outcomes on validation set using the tree model\n",
    "\n",
    "print(\"Decision Tree Accuracy:\", accuracy_score(y_val, tree_preds))# Print model accuracy for Decision Tree on validation data\n",
    "\n"
   ]
  },
  {
   "cell_type": "code",
   "execution_count": null,
   "id": "eacdb5c8",
   "metadata": {},
   "outputs": [
    {
     "name": "stdout",
     "output_type": "stream",
     "text": [
      "Tuned Decision Tree Accuracy: 0.7988826815642458\n"
     ]
    }
   ],
   "source": [
    "#model optimization\n",
    "tuned_tree_model = DecisionTreeClassifier(max_depth=3, random_state=42)# Create a Decision Tree model with limited depth to reduce overfitting\n",
    "\n",
    "tuned_tree_model.fit(X_train, y_train)# Train the tuned Decision Tree model\n",
    "\n",
    "tuned_tree_preds = tuned_tree_model.predict(X_val)# Predict using the tuned Decision Tree\n",
    "\n",
    "print(\"Tuned Decision Tree Accuracy:\", accuracy_score(y_val, tuned_tree_preds))# Print accuracy of the tuned Decision Tree on validation data\n",
    "\n"
   ]
  },
  {
   "cell_type": "code",
   "execution_count": null,
   "id": "ae0d5fbb",
   "metadata": {},
   "outputs": [],
   "source": [
    "\n",
    "best_model = model  # Choose the best model (Logistic Regression) to make final predictions\n",
    "\n",
    "\n",
    "final_preds = best_model.predict(test)# Predict survival on the test dataset\n",
    "\n",
    "\n",
    "submission = pd.DataFrame({\n",
    "    \"PassengerId\": test_passenger_ids,\n",
    "    \"Survived\": final_preds\n",
    "})# Create a DataFrame for submission with PassengerId and predicted Survived values\n",
    "\n",
    "\n",
    "submission.to_csv(\"submission.csv\", index=False)# Export the submission file as CSV without row index\n",
    "\n"
   ]
  }
 ],
 "metadata": {
  "kernelspec": {
   "display_name": "myenv",
   "language": "python",
   "name": "python3"
  },
  "language_info": {
   "codemirror_mode": {
    "name": "ipython",
    "version": 3
   },
   "file_extension": ".py",
   "mimetype": "text/x-python",
   "name": "python",
   "nbconvert_exporter": "python",
   "pygments_lexer": "ipython3",
   "version": "3.11.13"
  }
 },
 "nbformat": 4,
 "nbformat_minor": 5
}
